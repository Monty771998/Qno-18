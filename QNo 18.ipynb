{
 "cells": [
  {
   "cell_type": "code",
   "execution_count": 3,
   "id": "92715b4f-571a-4b1b-998c-48a55220f0f7",
   "metadata": {},
   "outputs": [],
   "source": [
    "import time \n",
    "def timer(func):\n",
    "    def total_time():\n",
    "        start_time = time.time()\n",
    "        result = func()\n",
    "        end_time = time.time()\n",
    "        print(end_time - start_time)\n",
    "        return result\n",
    "    return total_time\n",
    "\n",
    "\n",
    "@timer\n",
    "def monu():\n",
    "    sums=0\n",
    "    for i in range(500):\n",
    "        sums+=i\n",
    "    return sums\n",
    "        "
   ]
  },
  {
   "cell_type": "code",
   "execution_count": 4,
   "id": "9c76a03b-4d73-44fa-8371-575eb503a434",
   "metadata": {},
   "outputs": [
    {
     "name": "stdout",
     "output_type": "stream",
     "text": [
      "3.361701965332031e-05\n"
     ]
    },
    {
     "data": {
      "text/plain": [
       "124750"
      ]
     },
     "execution_count": 4,
     "metadata": {},
     "output_type": "execute_result"
    }
   ],
   "source": [
    "monu()"
   ]
  },
  {
   "cell_type": "code",
   "execution_count": null,
   "id": "44f9e6f0-0927-456b-8f25-2510f239778c",
   "metadata": {},
   "outputs": [],
   "source": []
  },
  {
   "cell_type": "code",
   "execution_count": null,
   "id": "b4e69d2b-8ece-4039-b16e-4b15b0c1d4c3",
   "metadata": {},
   "outputs": [],
   "source": []
  },
  {
   "cell_type": "code",
   "execution_count": null,
   "id": "b7257e8d-790c-41b6-9b6d-1b58de2c1308",
   "metadata": {},
   "outputs": [],
   "source": []
  },
  {
   "cell_type": "code",
   "execution_count": null,
   "id": "ce05218a-e133-4d3e-a8bf-23e36e654035",
   "metadata": {},
   "outputs": [],
   "source": []
  }
 ],
 "metadata": {
  "kernelspec": {
   "display_name": "Python 3 (ipykernel)",
   "language": "python",
   "name": "python3"
  },
  "language_info": {
   "codemirror_mode": {
    "name": "ipython",
    "version": 3
   },
   "file_extension": ".py",
   "mimetype": "text/x-python",
   "name": "python",
   "nbconvert_exporter": "python",
   "pygments_lexer": "ipython3",
   "version": "3.10.8"
  }
 },
 "nbformat": 4,
 "nbformat_minor": 5
}
